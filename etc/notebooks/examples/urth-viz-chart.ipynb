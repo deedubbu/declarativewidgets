{
 "cells": [
  {
   "cell_type": "markdown",
   "metadata": {},
   "source": [
    "# urth-viz-chart Examples"
   ]
  },
  {
   "cell_type": "markdown",
   "metadata": {},
   "source": [
    "#### Initialize declarative widgets and import dependencies"
   ]
  },
  {
   "cell_type": "code",
   "execution_count": null,
   "metadata": {
    "collapsed": false
   },
   "outputs": [],
   "source": [
    "import pandas as pd\n",
    "from urth import widgets\n",
    "\n",
    "widgets.init()"
   ]
  },
  {
   "cell_type": "code",
   "execution_count": null,
   "metadata": {
    "collapsed": false
   },
   "outputs": [],
   "source": [
    "%%html\n",
    "<link rel='import' href='urth_components/urth-viz-area/urth-viz-area.html' is='urth-core-import'>\n",
    "<link rel='import' href='urth_components/urth-viz-bar/urth-viz-bar.html' is='urth-core-import'>\n",
    "<link rel='import' href='urth_components/urth-viz-line/urth-viz-line.html' is='urth-core-import'>\n",
    "<link rel='import' href='urth_components/urth-viz-pie/urth-viz-pie.html' is='urth-core-import'>\n",
    "<link rel='import' href='urth_components/urth-viz-scatter/urth-viz-scatter.html' is='urth-core-import'>\n",
    "<link rel='import' href='urth_components/urth-viz-table/urth-viz-table.html' is='urth-core-import'>"
   ]
  },
  {
   "cell_type": "markdown",
   "metadata": {},
   "source": [
    "### Example 1 - create a bar chart with static JSON data"
   ]
  },
  {
   "cell_type": "code",
   "execution_count": null,
   "metadata": {
    "collapsed": false
   },
   "outputs": [],
   "source": [
    "%%html\n",
    "<urth-viz-bar xlabel=\"foo\" ylabel=\"bar\" datarows='[[\"a\",8,5],[\"b\",2,6],[\"c\",5,7]]' columns='[\"Index\",\"Series 1\",\"Series 2\"]'>\n",
    "</urth-viz-bar>"
   ]
  },
  {
   "cell_type": "markdown",
   "metadata": {},
   "source": [
    "### Example 2 - create a line chart with static JSON data"
   ]
  },
  {
   "cell_type": "code",
   "execution_count": null,
   "metadata": {
    "collapsed": false
   },
   "outputs": [],
   "source": [
    "%%html\n",
    "<urth-viz-line datarows='[[1,8,5],[2,2,6],[3,5,7]]' columns='[\"Index\",\"Series 1\",\"Series 2\"]'></urth-viz-line>"
   ]
  },
  {
   "cell_type": "markdown",
   "metadata": {},
   "source": [
    "### Example 3 - create a pie chart with static JSON data"
   ]
  },
  {
   "cell_type": "code",
   "execution_count": null,
   "metadata": {
    "collapsed": false
   },
   "outputs": [],
   "source": [
    "%%html\n",
    "<urth-viz-pie datarows='[[1,8,5],[2,2,6],[3,5,7]]' columns='[\"Index\",\"Series 1\",\"Series 2\"]'></urth-viz-pie>"
   ]
  },
  {
   "cell_type": "markdown",
   "metadata": {},
   "source": [
    "### Example 4 - create a bar chart bound to a Pandas DataFrame using `<urth-core-dataframe>`"
   ]
  },
  {
   "cell_type": "markdown",
   "metadata": {},
   "source": [
    "Initial DataFrame:"
   ]
  },
  {
   "cell_type": "code",
   "execution_count": null,
   "metadata": {
    "collapsed": false
   },
   "outputs": [],
   "source": [
    "aDataFrame1 = pd.DataFrame([\n",
    "        [1, 10, 5],\n",
    "        [2, 2, 6],\n",
    "        [3, 5, 7]\n",
    "    ], columns=[\"Index\", \"Series 1\", \"Series 2\"]\n",
    ")"
   ]
  },
  {
   "cell_type": "markdown",
   "metadata": {},
   "source": [
    "Share the dataframe contents in the 'x' property.  urth-viz-chart assumes first column is 'x' remaining ones are 'y' series, for now"
   ]
  },
  {
   "cell_type": "code",
   "execution_count": null,
   "metadata": {
    "collapsed": false
   },
   "outputs": [],
   "source": [
    "%%html\n",
    "<template is=\"dom-bind\">\n",
    "    <urth-core-dataframe ref=\"aDataFrame1\" value=\"{{df}}\" auto></urth-core-dataframe>\n",
    "    <urth-viz-bar id=\"c4\" datarows=\"{{df.data}}\" columns=\"{{df.columns}}\" selection=\"{{sel}}\"></urth-viz-bar>\n",
    "    Selection is: \n",
    "        <ul>\n",
    "            <template is=\"dom-repeat\" items=\"{{sel}}\">\n",
    "                <div>{{item}}</div>\n",
    "            </template>\n",
    "        </ul>\n",
    "    <urth-viz-table id=\"table\" datarows=\"{{ sel }}\" columns=\"{{ df.columns }}\">\n",
    "    </urth-viz-table>\n",
    "</template>"
   ]
  },
  {
   "cell_type": "markdown",
   "metadata": {},
   "source": [
    "Change the dataframe contents and chart will redraw"
   ]
  },
  {
   "cell_type": "code",
   "execution_count": null,
   "metadata": {
    "collapsed": false
   },
   "outputs": [],
   "source": [
    "aDataFrame1 = pd.DataFrame([\n",
    "        [1, 2, 5],\n",
    "        [2, 4, 4],\n",
    "        [3, 9, 3]\n",
    "    ], columns=[\"Index\", \"Series 1\", \"Series 2\"]\n",
    ")"
   ]
  },
  {
   "cell_type": "markdown",
   "metadata": {},
   "source": [
    "monitor read-only selection attribute"
   ]
  },
  {
   "cell_type": "code",
   "execution_count": null,
   "metadata": {
    "collapsed": false
   },
   "outputs": [],
   "source": [
    "%%html\n",
    "<script>\n",
    "c4.addEventListener('selection-changed', function(e) { s4.textContent = JSON.stringify(e.detail.value)});\n",
    "</script>\n",
    "<p>Selection: <span id=\"s4\"></span></p>"
   ]
  },
  {
   "cell_type": "markdown",
   "metadata": {},
   "source": [
    "### Example 5 - Multi Selection using multi-select"
   ]
  },
  {
   "cell_type": "markdown",
   "metadata": {},
   "source": [
    "By default, chart allows single selection (Example 4). To turn on multi selection, add **multi-select** attribute.\n",
    "\n",
    "Chart types that support multi selection: bar chart, pie chart, scatter chart and urth-viz-explorer."
   ]
  },
  {
   "cell_type": "code",
   "execution_count": null,
   "metadata": {
    "collapsed": false
   },
   "outputs": [],
   "source": [
    "%%html\n",
    "<template is=\"dom-bind\">\n",
    "    <urth-core-dataframe ref=\"aDataFrame1\" value=\"{{df}}\" auto></urth-core-dataframe>\n",
    "    <urth-viz-bar id=\"c5\" datarows=\"{{df.data}}\" columns=\"{{df.columns}}\" selection=\"{{sel}}\" multi-select></urth-viz-bar>\n",
    "    Selection is: \n",
    "        <ul>\n",
    "            <template is=\"dom-repeat\" items=\"{{sel}}\">\n",
    "                <div>{{item}}</div>\n",
    "            </template>\n",
    "        </ul>\n",
    "</template>"
   ]
  },
  {
   "cell_type": "code",
   "execution_count": null,
   "metadata": {
    "collapsed": false
   },
   "outputs": [],
   "source": [
    "%%html\n",
    "<script>\n",
    "c5.addEventListener('selection-changed', function(e) { s5.textContent = JSON.stringify(e.detail.value)});\n",
    "</script>\n",
    "<p>Selection: <span id=\"s5\"></span></p>"
   ]
  },
  {
   "cell_type": "markdown",
   "metadata": {},
   "source": [
    "### Example 6 - specify which column to use for X axis"
   ]
  },
  {
   "cell_type": "code",
   "execution_count": null,
   "metadata": {
    "collapsed": false
   },
   "outputs": [],
   "source": [
    "%%html\n",
    "<urth-viz-line primary='2' datarows='[[1,8,5],[2,2,6],[3,5,7]]' columns='[\"Index\",\"Series 1\",\"Series 2\"]'></urth-viz-line>"
   ]
  },
  {
   "cell_type": "markdown",
   "metadata": {
    "collapsed": true
   },
   "source": [
    "### Example 7 - rotate labels 45 degrees, adjust margin so labels aren't cut off"
   ]
  },
  {
   "cell_type": "code",
   "execution_count": null,
   "metadata": {
    "collapsed": false
   },
   "outputs": [],
   "source": [
    "%%html\n",
    "<urth-viz-bar height='250' width='400' margin='{\"bottom\":100}' rotatelabels='45' datarows='[[\"abcdefghijkl\",8,5],[\"b\",2,6],[\"c\",5,7]]' columns='[\"Index\",\"Series 1\",\"Series 2\"]'></urth-viz-bar>"
   ]
  },
  {
   "cell_type": "markdown",
   "metadata": {
    "collapsed": true
   },
   "source": [
    "### Example 8 - override colors"
   ]
  },
  {
   "cell_type": "code",
   "execution_count": null,
   "metadata": {
    "collapsed": false
   },
   "outputs": [],
   "source": [
    "%%html\n",
    "<urth-viz-bar \n",
    "   datarows='[[\"a\",8,5],[\"b\",2,6]]' \n",
    "   columns='[\"Index\",\"Series 1\",\"Series 2\"]' \n",
    "   palette='[\"green\",\"red\"]'\n",
    "></urth-viz-bar>"
   ]
  },
  {
   "cell_type": "markdown",
   "metadata": {},
   "source": [
    "### Example 9 - columns with types"
   ]
  },
  {
   "cell_type": "code",
   "execution_count": null,
   "metadata": {
    "collapsed": false
   },
   "outputs": [],
   "source": [
    "%%html\n",
    "<urth-viz-line\n",
    "   datarows='[[\"2015-01-01T12:00\",8,5],[\"2015-03-01T12:00\",2,6],[\"2015-04-01T12:00\",5,7]]' \n",
    "   columns='[\"Index\",\"Series 1\",\"Series 2\"]'>\n",
    "  <urth-viz-col index=\"0\" type=\"date\" format=\"%b %d\"></urth-viz-col>\n",
    "  <urth-viz-col index=\"1\" type=\"numeric\" format=\"$,.2f\"></urth-viz-col>\n",
    "</urth-viz-line>\n"
   ]
  },
  {
   "cell_type": "markdown",
   "metadata": {},
   "source": [
    "### Example 10 - urth-viz-chart base element"
   ]
  },
  {
   "cell_type": "markdown",
   "metadata": {},
   "source": [
    "The `urth-viz-chart` element is used for the implementation of several of the `urth-viz-*` elements which leverage the NVD3 library.  It is not intended to be used directly."
   ]
  },
  {
   "cell_type": "code",
   "execution_count": null,
   "metadata": {
    "collapsed": false
   },
   "outputs": [],
   "source": [
    "%%html\n",
    "<urth-viz-chart id=\"c10\" type=\"line\"\n",
    "   datarows='[[\"2015-01-01T12:00\",8,5],[\"2015-03-01T12:00\",2,6],[\"2015-04-01T12:00\",5,7]]' \n",
    "   columns='[\"Index\",\"Series 1\",\"Series 2\"]'>\n",
    "  <urth-viz-col index=\"0\" type=\"date\" format=\"%b %d\"></urth-viz-col>\n",
    "  <urth-viz-col index=\"1\" type=\"numeric\" format=\"$,.2f\"></urth-viz-col>\n",
    "</urth-viz-chart>\n"
   ]
  },
  {
   "cell_type": "markdown",
   "metadata": {},
   "source": [
    "then change it to a bar chart"
   ]
  },
  {
   "cell_type": "code",
   "execution_count": null,
   "metadata": {
    "collapsed": false
   },
   "outputs": [],
   "source": [
    "%%html\n",
    "<script>\n",
    "document.getElementById('c10').type='bar'\n",
    "</script>"
   ]
  },
  {
   "cell_type": "markdown",
   "metadata": {
    "collapsed": false
   },
   "source": [
    "and remove the type and format information from the axes. change should take effect immediately"
   ]
  },
  {
   "cell_type": "code",
   "execution_count": null,
   "metadata": {
    "collapsed": false
   },
   "outputs": [],
   "source": [
    "%%html\n",
    "<script>\n",
    "c10.innerHTML=''\n",
    "</script>"
   ]
  },
  {
   "cell_type": "code",
   "execution_count": null,
   "metadata": {
    "collapsed": true
   },
   "outputs": [],
   "source": []
  }
 ],
 "metadata": {
  "kernelspec": {
   "display_name": "Python 3",
   "language": "python",
   "name": "python3"
  },
  "language_info": {
   "codemirror_mode": {
    "name": "ipython",
    "version": 3
   },
   "file_extension": ".py",
   "mimetype": "text/x-python",
   "name": "python",
   "nbconvert_exporter": "python",
   "pygments_lexer": "ipython3",
   "version": "3.5.1"
  }
 },
 "nbformat": 4,
 "nbformat_minor": 0
}
