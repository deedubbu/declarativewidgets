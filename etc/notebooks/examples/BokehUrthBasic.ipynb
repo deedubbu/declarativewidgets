{
 "cells": [
  {
   "cell_type": "markdown",
   "metadata": {},
   "source": [
    "## Bokeh and Declarative Widgets Examples"
   ]
  },
  {
   "cell_type": "markdown",
   "metadata": {},
   "source": [
    "The **[Bokeh]()** interactive visualization library integrates well with **Jupyter Declarative Widgets**. Declarative Widgets bring the interactivity of Polymer to the feature-rich visualizations provided by Bokeh; when combined the two tools offer powerful notebook capabilities.\n",
    "\n",
    "This notebook shows some ways that Bokeh and Declarative Widgets can be used together."
   ]
  },
  {
   "cell_type": "markdown",
   "metadata": {},
   "source": [
    "-----------------"
   ]
  },
  {
   "cell_type": "markdown",
   "metadata": {},
   "source": [
    "#### Setup\n",
    "\n",
    "First we need to install `bokeh`, initialize the declarative widgets extension, import the libraries and elements that we'll use, and tell `bokeh` to output using the notebook environment:"
   ]
  },
  {
   "cell_type": "code",
   "execution_count": null,
   "metadata": {
    "collapsed": false
   },
   "outputs": [],
   "source": [
    "!conda install -y bokeh=0.10*"
   ]
  },
  {
   "cell_type": "code",
   "execution_count": null,
   "metadata": {
    "collapsed": false
   },
   "outputs": [],
   "source": [
    "from bokeh.models import ColumnDataSource, CustomJS\n",
    "from bokeh.plotting import figure, show, output_notebook\n",
    "from urth import widgets\n",
    "\n",
    "import numpy as np\n",
    "\n",
    "widgets.init()"
   ]
  },
  {
   "cell_type": "code",
   "execution_count": null,
   "metadata": {
    "collapsed": false
   },
   "outputs": [],
   "source": [
    "%%html\n",
    "<!-- Import dependencies -->\n",
    "<link rel='import' href='urth_components/paper-slider/paper-slider.html'\n",
    "        is='urth-core-import' package='PolymerElements/paper-slider'>\n",
    "<link rel=\"import\" href=\"urth_components/urth-viz-table/urth-viz-table.html\" \n",
    "        is=\"urth-core-import\">\n",
    "    \n",
    "<!-- Define data channel -->\n",
    "<urth-core-channel name='table' id='tableChannel'></urth-core-channel>"
   ]
  },
  {
   "cell_type": "code",
   "execution_count": null,
   "metadata": {
    "collapsed": false
   },
   "outputs": [],
   "source": [
    "output_notebook()"
   ]
  },
  {
   "cell_type": "markdown",
   "metadata": {},
   "source": [
    "-----------------"
   ]
  },
  {
   "cell_type": "markdown",
   "metadata": {},
   "source": [
    "### Dynamic Plotting: Random Data Generator\n",
    "\n",
    "This example shows how the `urth-core-function` can be used to dynamically update a Bokeh plot based on user input. "
   ]
  },
  {
   "cell_type": "markdown",
   "metadata": {},
   "source": [
    "Below, we create the Bokeh plot. Notice how it uses `source`, which will be used for data updates:"
   ]
  },
  {
   "cell_type": "code",
   "execution_count": null,
   "metadata": {
    "collapsed": false,
    "scrolled": true
   },
   "outputs": [],
   "source": [
    "source = ColumnDataSource(data=dict(x=[], y=[]))\n",
    "\n",
    "p = figure(title=\"Random Gaussian Data\", \n",
    "           plot_height=300, \n",
    "           plot_width=600, \n",
    "           y_range=[-50, 50])\n",
    "p.circle('x', 'y', source=source);"
   ]
  },
  {
   "cell_type": "markdown",
   "metadata": {},
   "source": [
    "The `generate` function generates random data points using the parameters from the sliders, and updates the plot using Bokeh's `push_notebook` function.\n",
    "\n",
    "`show_ex1` is used to display the plot created above:"
   ]
  },
  {
   "cell_type": "code",
   "execution_count": null,
   "metadata": {
    "collapsed": true
   },
   "outputs": [],
   "source": [
    "def generate(mean=0.0, std=1.0, n=100):\n",
    "    x = np.arange(0, n, 1)\n",
    "    y = np.random.normal(mean, std, size=n)\n",
    "    source.data['x'] = x\n",
    "    source.data['y'] = y\n",
    "    source.push_notebook()\n",
    "    \n",
    "def show_ex1():\n",
    "    show(p)"
   ]
  },
  {
   "cell_type": "markdown",
   "metadata": {},
   "source": [
    "Now we declare the widgets and Polymer elements:\n",
    "\n",
    "* `urth-core-function` bound to `show_ex1` with `auto` to display the plot\n",
    "* `urth-core-function` bound to `generate` to generate data and update the plot\n",
    "* `paper-slider` elements to adjust the arguments to `generate`"
   ]
  },
  {
   "cell_type": "code",
   "execution_count": null,
   "metadata": {
    "collapsed": false
   },
   "outputs": [],
   "source": [
    "%%html\n",
    "<urth-core-function ref=\"show_ex1\" auto></urth-core-function>\n",
    "<template is=\"dom-bind\">\n",
    "    <urth-core-function ref=\"generate\" arg-mean=\"{{mean}}\" arg-std=\"{{std}}\" arg-n=\"{{n}}\" auto></urth-core-function>\n",
    "    <paper-slider min=\"-10\" max=\"10\" step=\"0.5\" value=\"{{mean}}\"></paper-slider>mean <br/>\n",
    "    <paper-slider min=\"0\" max=\"10\" step=\"0.5\" value=\"{{std}}\"></paper-slider>std dev<br/>\n",
    "    <paper-slider min=\"0\" max=\"1000\" step=\"100\" value=\"{{n}}\"></paper-slider>number of points<br/>\n",
    "</template>"
   ]
  },
  {
   "cell_type": "markdown",
   "metadata": {},
   "source": [
    "-----------------"
   ]
  },
  {
   "cell_type": "markdown",
   "metadata": {
    "collapsed": true
   },
   "source": [
    "### Events and Selections: Selected Data Table\n",
    "\n",
    "We often want to further investigate data points based on a visualization. For instance, we may want to look at the data records of outliers on a scatter plot, or more generally the records for any subset of points in the plot.\n",
    "\n",
    "This example shows how `urth-core-channel` and `urth-core-bind` can be used to dynamically populate an `urth-viz-table` using points that a user selects on a Bokeh plot."
   ]
  },
  {
   "cell_type": "markdown",
   "metadata": {},
   "source": [
    "First we declare the Bokeh plot with some data: "
   ]
  },
  {
   "cell_type": "code",
   "execution_count": null,
   "metadata": {
    "collapsed": false
   },
   "outputs": [],
   "source": [
    "xs = list(np.arange(-0.7, 0.8, 0.1)) + [-0.25, 0.25]\n",
    "ys = [x ** 2 for x in xs[:-2]] + [0.8, 0.8]\n",
    "\n",
    "source2 = ColumnDataSource(data=dict(x=xs, y=ys))\n",
    "f1 = figure(tools='tap,box_select,lasso_select')\n",
    "f1.circle('x', 'y', source=source2, radius=0.05);"
   ]
  },
  {
   "cell_type": "markdown",
   "metadata": {},
   "source": [
    "Then we attach a callback that is fired when points on the plot are selected.\n",
    "\n",
    "We define the callback to set the table data with the currently selected points by setting `data` on the `table` channel:"
   ]
  },
  {
   "cell_type": "code",
   "execution_count": null,
   "metadata": {
    "collapsed": true
   },
   "outputs": [],
   "source": [
    "# setup callback\n",
    "source2.callback = CustomJS(code=\"\"\" \n",
    "    var selectedIndices = cb_obj.get('selected')['1d'].indices;\n",
    "    var allData = cb_obj.get('data');\n",
    "    var rowData = [];\n",
    "    for (var i = 0; i < selectedIndices.length; i++){\n",
    "        var row = [];\n",
    "        row.push(allData['x'][selectedIndices[i]]);\n",
    "        row.push(allData['y'][selectedIndices[i]]);\n",
    "        rowData.push(row);\n",
    "    }\n",
    "    var tableData = {\n",
    "        data: rowData,\n",
    "        columns: ['x', 'y']\n",
    "    }\n",
    "    \n",
    "    document.getElementById('tableChannel').set('data', tableData);\n",
    "\"\"\")"
   ]
  },
  {
   "cell_type": "code",
   "execution_count": null,
   "metadata": {
    "collapsed": true
   },
   "outputs": [],
   "source": [
    "def show_ex2():\n",
    "    show(f1)"
   ]
  },
  {
   "cell_type": "markdown",
   "metadata": {},
   "source": [
    "Now we declare the widgets and Polymer elements:\n",
    "\n",
    "* `urth-core-function` bound to `show_ex2` with `auto` to display the plot\n",
    "* `urth-core-bind` template using the `table` channel\n",
    "* `urth-viz-table` and `urth-viz-col`s"
   ]
  },
  {
   "cell_type": "code",
   "execution_count": null,
   "metadata": {
    "collapsed": false
   },
   "outputs": [],
   "source": [
    "%%html\n",
    "<urth-core-function ref=\"show_ex2\" auto></urth-core-function>\n",
    "<template is='urth-core-bind' channel='table'>\n",
    "    <h4>Selected Points</h4>\n",
    "    <urth-viz-table datarows=\"{{ data.data }}\" selection=\"{{sel}}\" columns=\"{{ data.columns }}\" rows-visible=6>\n",
    "        <urth-viz-col></urth-viz-col>\n",
    "        <urth-viz-col></urth-viz-col>\n",
    "    </urth-viz-table>\n",
    "    <p>Use the selection tools in the upper-right corner to select points on the plot:</p>\n",
    "</template>"
   ]
  },
  {
   "cell_type": "markdown",
   "metadata": {},
   "source": [
    "------------------------"
   ]
  },
  {
   "cell_type": "markdown",
   "metadata": {},
   "source": [
    "### Streaming Plots with Spark\n",
    "\n",
    "In this example, we display streaming data from PySpark on a Bokeh plot, and use `urth-core-function`s to build a small interface for controlling the stream."
   ]
  },
  {
   "cell_type": "code",
   "execution_count": null,
   "metadata": {
    "collapsed": false
   },
   "outputs": [],
   "source": [
    "import pandas as pd\n",
    "import numpy as np\n",
    "import pyspark\n",
    "from pyspark.streaming import StreamingContext\n",
    "\n",
    "sc = pyspark.SparkContext('local[*]')\n",
    "sqlContext = pyspark.SQLContext(sc)"
   ]
  },
  {
   "cell_type": "markdown",
   "metadata": {},
   "source": [
    "First we create a `stream` containing the data points from `xs` and `ys`:"
   ]
  },
  {
   "cell_type": "code",
   "execution_count": null,
   "metadata": {
    "collapsed": false
   },
   "outputs": [],
   "source": [
    "xs = np.arange(0, 100, 1)\n",
    "ys = np.random.random_integers(low=0, high=10, size=len(xs))\n",
    "\n",
    "def create_rdd(x, y):\n",
    "    rdd = sc.parallelize([x, y])\n",
    "    return rdd\n",
    "\n",
    "queue = [create_rdd(x, y) for x, y in zip(xs, ys)]\n",
    "streaming_context = StreamingContext(sc, 1)\n",
    "stream = streaming_context.queueStream(queue)"
   ]
  },
  {
   "cell_type": "markdown",
   "metadata": {},
   "source": [
    "And a function that updates the plot when a new data point arrives:"
   ]
  },
  {
   "cell_type": "code",
   "execution_count": null,
   "metadata": {
    "collapsed": true
   },
   "outputs": [],
   "source": [
    "def update_plot(rdd):\n",
    "    data = rdd.collect()\n",
    "    if data:\n",
    "        source3.data['x'] = list(source3.data['x']) + [data[0]]\n",
    "        source3.data['y'] = list(source3.data['y']) + [data[1]]\n",
    "        source3.push_notebook()"
   ]
  },
  {
   "cell_type": "code",
   "execution_count": null,
   "metadata": {
    "collapsed": false
   },
   "outputs": [],
   "source": [
    "stream.foreachRDD(update_plot)"
   ]
  },
  {
   "cell_type": "markdown",
   "metadata": {},
   "source": [
    "Then we declare the Bokeh plot. Notice how `source3` is used below and in `update_plot`:"
   ]
  },
  {
   "cell_type": "code",
   "execution_count": null,
   "metadata": {
    "collapsed": false
   },
   "outputs": [],
   "source": [
    "source3 = ColumnDataSource(data=dict(x=[], y=[]))\n",
    "f2 = figure(y_range=[0, 10])\n",
    "f2.line('x', 'y', source=source3);"
   ]
  },
  {
   "cell_type": "markdown",
   "metadata": {},
   "source": [
    "Then we make functions that we'll bind to:"
   ]
  },
  {
   "cell_type": "code",
   "execution_count": null,
   "metadata": {
    "collapsed": false
   },
   "outputs": [],
   "source": [
    "def show_ex3():\n",
    "    show(f2)\n",
    "    \n",
    "def start_stream():\n",
    "    streaming_context.start()\n",
    "\n",
    "def stop_stream():\n",
    "    streaming_context.stop()"
   ]
  },
  {
   "cell_type": "markdown",
   "metadata": {},
   "source": [
    "Finally, we declare the widgets and Polymer elements:\n",
    "\n",
    "* `urth-core-function` bound to `show_ex3` with `auto` to display the plot\n",
    "* `urth-core-function` bound to `start_stream`\n",
    "* `urth-core-function` bound to `stop_stream`"
   ]
  },
  {
   "cell_type": "code",
   "execution_count": null,
   "metadata": {
    "collapsed": false
   },
   "outputs": [],
   "source": [
    "%%html\n",
    "<urth-core-function ref=\"show_ex3\" auto></urth-core-function>\n",
    "<urth-core-function id=\"start\" ref=\"start_stream\"></urth-core-function>\n",
    "<urth-core-function id=\"stop\" ref=\"stop_stream\"></urth-core-function>\n",
    "<button onclick=\"$('#start')[0].invoke()\">Start</button>\n",
    "<button onclick=\"$('#stop')[0].invoke();\">Stop</button>"
   ]
  }
 ],
 "metadata": {
  "kernelspec": {
   "display_name": "Python 3",
   "language": "python",
   "name": "python3"
  },
  "language_info": {
   "codemirror_mode": {
    "name": "ipython",
    "version": 3
   },
   "file_extension": ".py",
   "mimetype": "text/x-python",
   "name": "python",
   "nbconvert_exporter": "python",
   "pygments_lexer": "ipython3",
   "version": "3.5.1"
  }
 },
 "nbformat": 4,
 "nbformat_minor": 0
}
